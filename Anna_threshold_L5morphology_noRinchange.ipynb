{
 "cells": [
  {
   "cell_type": "markdown",
   "metadata": {},
   "source": [
    "# Imports"
   ]
  },
  {
   "cell_type": "code",
   "execution_count": 1,
   "metadata": {
    "ExecuteTime": {
     "end_time": "2021-05-02T02:49:22.898021Z",
     "start_time": "2021-05-02T02:49:12.057586Z"
    }
   },
   "outputs": [],
   "source": [
    "# run nrnivmodl in the mechanisms folder, and then drag arm64 folder back out into Nav12_analysis folder\n",
    "import matplotlib as mpl\n",
    "import matplotlib.pyplot as plt\n",
    "import seaborn as sns\n",
    "import pandas as pd\n",
    "import numpy as np\n",
    "from scipy import stats\n",
    "\n",
    "plt.rcParams['axes.spines.right'] = False\n",
    "plt.rcParams['axes.spines.top'] = False\n",
    "plt.rcParams['font.sans-serif'] = \"Arial\"\n",
    "plt.rcParams['font.family'] = \"sans-serif\"\n",
    "plt.rcParams['pdf.fonttype'] = 42\n",
    "plt.rcParams['ps.fonttype'] = 42\n",
    "\n",
    "tick_major = 6\n",
    "tick_minor = 4\n",
    "plt.rcParams[\"xtick.major.size\"] = tick_major\n",
    "plt.rcParams[\"xtick.minor.size\"] = tick_minor\n",
    "plt.rcParams[\"ytick.major.size\"] = tick_major\n",
    "plt.rcParams[\"ytick.minor.size\"] = tick_minor\n",
    "\n",
    "font_small = 12\n",
    "font_medium = 13\n",
    "font_large = 14\n",
    "plt.rc('font', size=font_small)          # controls default text sizes\n",
    "plt.rc('axes', titlesize=font_medium)    # fontsize of the axes title\n",
    "plt.rc('axes', labelsize=font_medium)    # fontsize of the x and y labels\n",
    "plt.rc('xtick', labelsize=font_small)    # fontsize of the tick labels\n",
    "plt.rc('ytick', labelsize=font_small)    # fontsize of the tick labels\n",
    "plt.rc('legend', fontsize=font_small)    # legend fontsize\n",
    "plt.rc('figure', titlesize=font_large)   # fontsize of the figure title\n",
    "\n",
    "import matplotlib.colors as clr"
   ]
  },
  {
   "cell_type": "markdown",
   "metadata": {},
   "source": [
    "# Model Controls"
   ]
  },
  {
   "cell_type": "markdown",
   "metadata": {},
   "source": [
    "## Loading the Model"
   ]
  },
  {
   "cell_type": "code",
   "execution_count": 2,
   "metadata": {
    "ExecuteTime": {
     "end_time": "2021-05-02T02:40:38.619248Z",
     "start_time": "2021-05-02T02:40:30.161499Z"
    }
   },
   "outputs": [
    {
     "name": "stdout",
     "output_type": "stream",
     "text": [
      "\t1 \n",
      "\t1 \n",
      "Setting temperature to 34.000000 C\n",
      "Setting simulation time step to 0.100000 ms\n",
      "\t1 \n",
      "\t1 \n",
      "\t1 \n",
      "\t1 \n",
      "\t1 \n",
      "\t1 \n",
      "\t1 \n",
      "\t1 \n",
      "\t1 \n",
      "\t1 \n",
      "\t1 \n",
      "\t1 \n",
      "\t1 \n",
      "**********************\n",
      "cADpyr232_L5_TTPC1_0fb1ca4724[0].soma[0]\n",
      "1 \n",
      "1 \n",
      "1 \n",
      "\t1 \n",
      "\t1 \n",
      "\t1 \n"
     ]
    },
    {
     "data": {
      "text/plain": [
       "1.0"
      ]
     },
     "execution_count": 2,
     "metadata": {},
     "output_type": "execute_result"
    }
   ],
   "source": [
    "from neuron import h\n",
    "h.load_file(\"runModel.hoc\")"
   ]
  },
  {
   "cell_type": "markdown",
   "metadata": {},
   "source": [
    "## Initialize Model Params"
   ]
  },
  {
   "cell_type": "code",
   "execution_count": 3,
   "metadata": {
    "ExecuteTime": {
     "end_time": "2021-05-02T03:22:53.581851Z",
     "start_time": "2021-05-02T03:22:53.571750Z"
    },
    "code_folding": []
   },
   "outputs": [],
   "source": [
    "def init_settings(nav12=1,\n",
    "                  nav16=1,\n",
    "                  dend_nav12=1, \n",
    "                  soma_nav12=1, \n",
    "                  ais_nav12=1, \n",
    "                  dend_nav16=1, \n",
    "                  soma_nav16=1,\n",
    "                  ais_nav16=1, \n",
    "                  axon_Kp=1,\n",
    "                  axon_Kt =1,\n",
    "                  axon_K=1,\n",
    "                  soma_K=1,\n",
    "                  dend_K=1,\n",
    "                  gpas_all=1):\n",
    "    \n",
    "    # create default model parameters to avoid loading the model\n",
    "    \n",
    "    h.dend_na12 = 0.026145/2 \n",
    "    h.dend_na16 = h.dend_na12 \n",
    "    h.dend_k = 0.004226 * soma_K\n",
    "\n",
    "\n",
    "    h.soma_na12 = 0.983955/10 \n",
    "    h.soma_na16 = h.soma_na12 \n",
    "    h.soma_K = 0.303472 * soma_K\n",
    "\n",
    "    h.ais_na16 = 4 \n",
    "    h.ais_na12 = 4 \n",
    "    h.ais_ca = 0.000990\n",
    "    h.ais_KCa = 0.007104\n",
    "\n",
    "    h.node_na = 2\n",
    "\n",
    "    h.axon_KP = 0.973538 * axon_Kp\n",
    "    h.axon_KT = 0.089259 * axon_Kt\n",
    "    h.axon_K = 1.021945 * axon_K\n",
    "\n",
    "    h.cell.axon[0].gCa_LVAstbar_Ca_LVAst = 0.001376286159287454\n",
    "    \n",
    "    #h.soma_na12 = h.soma_na12/2\n",
    "    h.naked_axon_na = h.soma_na16/5\n",
    "    h.navshift = -10\n",
    "    h.myelin_na = h.naked_axon_na\n",
    "    h.myelin_K = 0.303472\n",
    "    h.myelin_scale = 10\n",
    "    h.gpas_all = 3e-5 * gpas_all\n",
    "    h.cm_all = 1\n",
    "    \n",
    "    \n",
    "    h.dend_na12 = h.dend_na12 * nav12 * dend_nav12\n",
    "    h.soma_na12 = h.soma_na12 * nav12 * soma_nav12\n",
    "    h.ais_na12 = h.ais_na12 * nav12 * ais_nav12\n",
    "    \n",
    "    h.dend_na16 = h.dend_na16 * nav16 * dend_nav16\n",
    "    h.soma_na16 = h.soma_na16 * nav16 * soma_nav16\n",
    "    h.ais_na16 = h.ais_na16 * nav16 * ais_nav16\n",
    "       \n",
    "    \n",
    "    h.working()"
   ]
  },
  {
   "cell_type": "markdown",
   "metadata": {},
   "source": [
    "## Initialize Stimulation Params"
   ]
  },
  {
   "cell_type": "code",
   "execution_count": 80,
   "metadata": {
    "ExecuteTime": {
     "end_time": "2021-05-02T02:48:59.026404Z",
     "start_time": "2021-05-02T02:48:59.022102Z"
    },
    "code_folding": [
     0
    ]
   },
   "outputs": [],
   "source": [
    "def init_stim(sweep_len = 800, stim_start = 100, stim_dur = 500, amp = 0.5, dt = 0.01):\n",
    "    # updates the stimulation params used by the model\n",
    "    # time values are in ms\n",
    "    # amp values are in nA\n",
    "    \n",
    "    h(\"st.del = \" + str(stim_start))\n",
    "    h(\"st.dur = \" + str(stim_dur))\n",
    "    h(\"st.amp = \" + str(amp))\n",
    "    h.tstop = sweep_len\n",
    "    h.dt = dt"
   ]
  },
  {
   "cell_type": "markdown",
   "metadata": {},
   "source": [
    "## Run the model"
   ]
  },
  {
   "cell_type": "code",
   "execution_count": 5,
   "metadata": {
    "ExecuteTime": {
     "end_time": "2021-05-02T02:49:00.722086Z",
     "start_time": "2021-05-02T02:49:00.715276Z"
    },
    "code_folding": [
     0
    ]
   },
   "outputs": [],
   "source": [
    "def run_model(start_Vm = -80):\n",
    "\n",
    "    h.finitialize(start_Vm)\n",
    "    timesteps = int(h.tstop/h.dt)\n",
    "    \n",
    "    Vm = np.zeros(timesteps)\n",
    "    I = {}\n",
    "    I['Na'] = np.zeros(timesteps)\n",
    "    I['Ca'] = np.zeros(timesteps)\n",
    "    I['K'] = np.zeros(timesteps)\n",
    "    I['GABA'] = np.zeros(timesteps)\n",
    "    t = np.zeros(timesteps)\n",
    "\n",
    "    for ii in range(timesteps):\n",
    "        Vm[ii] = h.cell.soma[0].v\n",
    "        I['Na'][ii] = h.cell.soma[0](0.5).ina\n",
    "        I['Ca'][ii] = h.cell.soma[0](0.5).ica\n",
    "        I['K'][ii] = h.cell.soma[0](0.5).ik\n",
    "        for syn in syns:\n",
    "            I['GABA'][ii] += syn.i\n",
    "        t[ii] = ii*h.dt / 1000\n",
    "        h.fadvance()\n",
    "     \n",
    "    ## if GABA currents are present, measure them -- does this work as expected?\n",
    "\n",
    "#     ivecs = [] # for the individual synaptic currents\n",
    "#     for abc in syns:\n",
    "#         tmp = h.Vector()\n",
    "#         tmp.record(abc._ref_i)\n",
    "#         ivecs.append(tmp)\n",
    "            \n",
    "#     iGABA = np.zeros(timesteps)\n",
    "#     for abc in ivecs:\n",
    "#         iGABA += abc.as_numpy()\n",
    "        \n",
    "    return Vm, I, t"
   ]
  },
  {
   "cell_type": "markdown",
   "metadata": {},
   "source": [
    "## AP analysis code"
   ]
  },
  {
   "cell_type": "code",
   "execution_count": 6,
   "metadata": {
    "ExecuteTime": {
     "end_time": "2021-05-02T02:49:02.498832Z",
     "start_time": "2021-05-02T02:49:02.478323Z"
    },
    "code_folding": [
     81,
     90,
     94,
     99,
     113
    ]
   },
   "outputs": [],
   "source": [
    "def detect_spikes(Vm, time, dVdt_thresh = 15, min_spike_len = 0.0002, properties=True):\n",
    "    '''\n",
    "    Method for identifying spikes based on rates of change in the membrane potential\n",
    "    INPUTS:\n",
    "    Vm: array-like - membrane potential (mV)\n",
    "    time: array-like - time corresponding to Vm (sec)\n",
    "    dVdt_thresh: float - Threshold for determining spike initiation (V/s)\n",
    "    min_spike_len: float - Minimum length of time dVdt must be above dVdt_thresh to be considered a spike (sec)\n",
    "    properties: Bool - If true, returns spike_times and spike_properties. Otherwise returns only spike_properties\n",
    "\n",
    "    Output:\n",
    "    array of spike times\n",
    "\n",
    "    Identification of spike start times:\n",
    "    dVdt is first quanitified from Vm and time\n",
    "    Continuous stretches (runs) of dVdt above dVdt_thresh are identified, and then ensured to last longer than min_spike_len\n",
    "\n",
    "    Spike Property measurement:\n",
    "    spike_end is determined by finding the second zero crossing of dVdt after spike dVdt_threshold\n",
    "    First zero crossing is AP peak, second should be end of repolarization phase\n",
    "    Persistent zero crossing (must stay above zero for 3 continous points) is used to make sure that noise in slowly repolarizing spikes doesn't trigger spike end\n",
    "    '''\n",
    "    if len(Vm) != len(time):\n",
    "        raise Exception(\"Vm and time must be the same length\")\n",
    "\n",
    "    #determine stretches where dVdt exceeds dVdt_thresh\n",
    "    dVdt = np.gradient(Vm,time)/1e3\n",
    "    runs = group_consecutives(np.argwhere((dVdt>=dVdt_thresh)).flatten())\n",
    "\n",
    "    #If runs are longer than min_spike_len count as a spike\n",
    "    dt = time[1]-time[0] #sample rate\n",
    "    min_run_len = np.ceil(min_spike_len/dt)\n",
    "    spike_times = []\n",
    "    for run in runs:\n",
    "        if len(run) > min_run_len:\n",
    "            spike_times.append(time[run[0]])\n",
    "    spike_times = np.asarray(spike_times)\n",
    "\n",
    "    if not properties: #just return spike_times\n",
    "        return spike_times\n",
    "\n",
    "    #get spike properties\n",
    "    spike_properties=[]\n",
    "    for spike_time in spike_times:\n",
    "        #find index of spike_time in time\n",
    "        spike_start_idx = np.argwhere(spike_time == time)[0][0]\n",
    "\n",
    "        #find zero crossings of dVdt after spike dVdt_threshold\n",
    "        zero_crosses = find_zero_crossing(dVdt[spike_start_idx:-1])\n",
    "        #make sure zero cross is persistent to account for noise\n",
    "        if len(zero_crosses) > 1:\n",
    "            spike_end_idx = spike_start_idx\\\n",
    "                            + zero_crosses[np.argwhere(np.diff(zero_crosses)>3)[0] + 1][0]\n",
    "        else: #Vm ends before spike can repolarize, therefore assigned Vm[-1] as spike end\n",
    "            spike_end_idx = len(Vm)-1\n",
    "\n",
    "        spike_Vm = Vm[spike_start_idx:spike_end_idx]\n",
    "        spike_time = time[spike_start_idx:spike_end_idx] - time[spike_start_idx]\n",
    "        spike_dVdt = dVdt[spike_start_idx:spike_end_idx]\n",
    "        spike = {}\n",
    "        spike['start_idx'] = spike_start_idx\n",
    "        spike['start_time'] = time[spike_start_idx]\n",
    "        spike['end_idx'] = spike_end_idx\n",
    "        spike['end_time'] = time[spike_end_idx]\n",
    "        spike['Vm'] = spike_Vm\n",
    "        spike['time'] = spike_time\n",
    "        spike['thresh'] = spike_Vm[0]\n",
    "        spike['peak_Vm'] = spike_Vm.max()\n",
    "        spike['height'] = np.max(spike_Vm)-spike_Vm[0]\n",
    "        spike['AHP'] = spike_Vm[0]-spike_Vm[-1]\n",
    "        spike['peak_dVdt'] = spike_dVdt.max()\n",
    "        spike['min_dVdt'] = spike_dVdt.min()\n",
    "        try:\n",
    "            half_pnts = find_zero_crossing(spike_Vm - (spike_Vm[0]+(np.max(spike_Vm)-spike_Vm[0])/2))\n",
    "            spike['half_width'] = (half_pnts[1]-half_pnts[0])*dt*1000\n",
    "        except: #For slowly repolarizing spikes this can sometimes fail\n",
    "            spike['half_width'] = np.nan\n",
    "\n",
    "        spike_properties.append(spike)\n",
    "    return spike_times,spike_properties\n",
    "\n",
    "def detect_spike_times(Vm, time, dVdt_thresh = 15, min_spike_len = 0.0002):\n",
    "    '''\n",
    "    Wrapper of detect_spikes to only get spike times\n",
    "    '''\n",
    "    return detect_spikes(Vm, time,\n",
    "                          dVdt_thresh = dVdt_thresh,\n",
    "                          min_spike_len = min_spike_len,\n",
    "                          properties=False)\n",
    "\n",
    "def detect_spike_properties(Vm, time, dVdt_thresh = 15, min_spike_len = 0.0001):\n",
    "    '''\n",
    "    Wrapper of detect_spikes to only get spike properties\n",
    "    '''\n",
    "    return detect_spikes(Vm, time,\n",
    "                          dVdt_thresh = dVdt_thresh,\n",
    "                          min_spike_len = min_spike_len,\n",
    "                          properties=True)[1]\n",
    "\n",
    "def group_consecutives(vals, step=1):\n",
    "    \"\"\"Return list of consecutive lists of numbers from vals (number list).\"\"\"\n",
    "    run = []\n",
    "    result = [run]\n",
    "    expect = None\n",
    "    for v in vals:\n",
    "        if (v == expect) or (expect is None):\n",
    "            run.append(v)\n",
    "        else:\n",
    "            run = [v]\n",
    "            result.append(run)\n",
    "        expect = v + step\n",
    "    return result\n",
    "\n",
    "def find_zero_crossing(x):\n",
    "    '''\n",
    "    returns array of indicies before a zero crossing occur\n",
    "    If your input array starts and stops with zeros, it will find a zero crossing at the beginning, but not at the end\n",
    "    '''\n",
    "    zero_crossings = np.where(np.diff(np.signbit(x)))[0]\n",
    "    return zero_crossings"
   ]
  },
  {
   "cell_type": "markdown",
   "metadata": {},
   "source": [
    "# Model NaV distributions"
   ]
  },
  {
   "cell_type": "code",
   "execution_count": 7,
   "metadata": {
    "ExecuteTime": {
     "end_time": "2021-05-02T02:49:45.302086Z",
     "start_time": "2021-05-02T02:49:44.384121Z"
    },
    "scrolled": true
   },
   "outputs": [
    {
     "data": {
      "image/png": "[encoded data removed]",
      "text/plain": [
       "<Figure size 360x144 with 1 Axes>"
      ]
     },
     "metadata": {
      "needs_background": "light"
     },
     "output_type": "display_data"
    },
    {
     "data": {
      "image/png": "[encoded data removed]",
      "text/plain": [
       "<Figure size 360x144 with 1 Axes>"
      ]
     },
     "metadata": {
      "needs_background": "light"
     },
     "output_type": "display_data"
    },
    {
     "data": {
      "image/png": "[encoded data removed]",
      "text/plain": [
       "<Figure size 360x144 with 1 Axes>"
      ]
     },
     "metadata": {
      "needs_background": "light"
     },
     "output_type": "display_data"
    }
   ],
   "source": [
    "\n",
    "init_settings()\n",
    "\n",
    "NaV12 = []\n",
    "NaV16 = []\n",
    "distance = []\n",
    "nseg = h.cell.axon[0].nseg\n",
    "\n",
    "# distance.append(-.4)\n",
    "# distance.append(-.2)\n",
    "# NaV12.append(h.dend_na12)\n",
    "# NaV16.append(h.dend_na16)\n",
    "# NaV12.append(h.dend_na12)\n",
    "# NaV16.append(h.dend_na16)\n",
    "\n",
    "# distance.append(-.2)\n",
    "# distance.append(0)\n",
    "# NaV12.append(h.soma_na12)\n",
    "# NaV16.append(h.soma_na16)\n",
    "# NaV12.append(h.soma_na12)\n",
    "# NaV16.append(h.soma_na16)\n",
    "\n",
    "for i in range(nseg):\n",
    "    x = i/nseg\n",
    "    distance.append(x)\n",
    "    NaV12.append(h.cell.axon[0](x).gbar_na12) # + h.cell.axon[0](x).gbar_na12mut)\n",
    "    NaV16.append(h.cell.axon[0](x).gbar_na16)\n",
    "\n",
    "\n",
    "\n",
    "\n",
    "\n",
    "NaV12 = np.asarray(NaV12)\n",
    "NaV16 = np.asarray(NaV16)   \n",
    "\n",
    "fig, ax = plt.subplots(nrows=1, ncols=1, figsize=(5,2), sharex=False, sharey=False)\n",
    "ax.set_title('Baseline model AIS NaV distribution')\n",
    "\n",
    "ax.set_ylabel(\"Distance\")\n",
    "ax.set_xlabel(\"Channel density\")\n",
    "\n",
    "ax.fill_between(distance, NaV16, label = 'NaV16', color = '#922A8E', alpha=0.5)\n",
    "ax.fill_between(distance, NaV12, label = 'NaV12', color = '#059552', alpha=0.5)\n",
    "\n",
    "ax.set_xlim(0, 0.55)\n",
    "\n",
    "\n",
    "\n",
    "# plt.savefig('Model_ais_distribution.pdf')\n",
    "# ax = plot_AIS_NaV_distribution(ax)\n",
    "plt.show()\n",
    "\n",
    "\n",
    "\n",
    "\n",
    "\n",
    "fig, ax = plt.subplots(nrows=1, ncols=1, figsize=(5,2), sharex=False, sharey=False)\n",
    "ax.set_title('Model soma NaV distribution')\n",
    "\n",
    "ax.set_ylabel(\"Distance\")\n",
    "ax.set_xlabel(\"Channel density\")\n",
    "\n",
    "ax.fill_between( [0, 1], [h.soma_na16, h.soma_na16], label = 'NaV16', color = '#922A8E', alpha=0.5)\n",
    "ax.fill_between([0, 1], [h.soma_na12, h.soma_na12], label = 'NaV12', color = '#059552', alpha=0.5)\n",
    "\n",
    "# plt.savefig('Model_soma_distribution.pdf')\n",
    "plt.show()\n",
    "\n",
    "fig, ax = plt.subplots(nrows=1, ncols=1, figsize=(5,2), sharex=False, sharey=False)\n",
    "ax.set_title('Model dendrite NaV distribution')\n",
    "\n",
    "ax.set_ylabel(\"Distance\")\n",
    "ax.set_xlabel(\"Channel density\")\n",
    "\n",
    "ax.fill_between( [0, 1], [h.dend_na16, h.dend_na16], label = 'NaV16', color = '#922A8E', alpha=0.5)\n",
    "ax.fill_between([0, 1], [h.dend_na12, h.dend_na12], label = 'NaV12', color = '#059552', alpha=0.5)\n",
    "\n",
    "# plt.savefig('Model_dend_distribution.pdf')\n",
    "plt.show()"
   ]
  },
  {
   "cell_type": "markdown",
   "metadata": {
    "ExecuteTime": {
     "end_time": "2020-12-04T01:55:40.565529Z",
     "start_time": "2020-12-04T01:55:40.561247Z"
    }
   },
   "source": [
    "# AP Waveform"
   ]
  },
  {
   "cell_type": "code",
   "execution_count": 178,
   "metadata": {},
   "outputs": [],
   "source": [
    "def AP1_phase_plane(ax1, ax2, label):\n",
    "    ax1.set_xlabel('Time (sec)')\n",
    "    ax1.set_ylabel('Vm (mV)')\n",
    "\n",
    "    ax2.set_xlabel('Vm (mV)')\n",
    "    ax2.set_ylabel('dVdt (V/s)')\n",
    "    \n",
    "    Vm, I, t = run_model()\n",
    "    \n",
    "    spikes = detect_spike_properties(Vm, t)\n",
    "    \n",
    "    Vm = spikes[0]['Vm']\n",
    "    t = np.arange(len(Vm))*h.dt\n",
    "    dvdt = np.gradient(Vm)/h.dt\n",
    "    \n",
    "    ax1.plot(t[:int(2/h.dt)], Vm[:int(2/h.dt)], linewidth = 1, label = label)\n",
    "    ax1.set_ylim(-80,40)\n",
    "    ax1.set_xlim(0,2)\n",
    "    ax2.plot(Vm, dvdt, linewidth = 1)\n",
    "    ax2.set_ylim(-150,700)\n",
    "    ax2.set_xlim(-80,40)\n",
    "    return spikes[0]['start_time'], spikes[0]['thresh']\n",
    "\n",
    "def AP1_phase_plane_comparison_axes(percents, cmap):\n",
    "    fig, [[ax1, ax2], [ax3, ax4]] = plt.subplots(nrows=2, ncols=2, figsize=(10,8), sharex=False, sharey=False)\n",
    "    ax1.set_prop_cycle('color',cmap(np.linspace(0,1,len(percents))))\n",
    "    ax2.set_prop_cycle('color',cmap(np.linspace(0,1,len(percents))))\n",
    "    \n",
    "    ax1.set_title = 'AP Waveform'\n",
    "    ax1.set_ylabel('Vm (mV)')\n",
    "    ax1.set_xlabel('Time (ms)')\n",
    "    \n",
    "    ax2.set_title = 'Phase Plane'\n",
    "    ax2.set_ylabel('dVdt (V/s)')\n",
    "    ax2.set_xlabel('Vm (mV)')\n",
    "\n",
    "    ax3.set_title = 'Timing'\n",
    "    ax3.set_ylabel('AP onset (ms)')\n",
    "    ax3.set_xlabel('GABA reversal potential')\n",
    "    ax3.set_ylim(-1,1)\n",
    "    \n",
    "    ax4.set_title = 'Threshold'\n",
    "    ax4.set_ylabel('Threshold (mV)')\n",
    "    ax4.set_xlabel('GABA reversal potential')\n",
    "    ax4.set_ylim(-80,-45)\n",
    "    \n",
    "    return fig, ax1, ax2, ax3, ax4\n",
    "\n",
    "def init_stim_for_phase_plane(amp=0.45):\n",
    "    sweep_len = 5000\n",
    "    stim_dur = 50\n",
    "    stim_start = 330\n",
    "    amp = amp\n",
    "    dt = 0.01\n",
    "\n",
    "    init_stim(sweep_len=sweep_len, \n",
    "              stim_start=stim_start,\n",
    "              stim_dur=stim_dur,\n",
    "              amp=amp,\n",
    "              dt=dt)\n",
    "\n",
    "def highResPoints(x,y,factor=10):\n",
    "    '''\n",
    "    Take points listed in two vectors and return them at a higher\n",
    "    resultion. Create at least factor*len(x) new points that include the\n",
    "    original points and those spaced in between.\n",
    "\n",
    "    Returns new x and y arrays as a tuple (x,y).\n",
    "    '''\n",
    "\n",
    "    # r is the distance spanned between pairs of points\n",
    "    r = [0]\n",
    "    for i in range(1,len(x)):\n",
    "        dx = x[i]-x[i-1]\n",
    "        dy = y[i]-y[i-1]\n",
    "        r.append(np.sqrt(dx*dx+dy*dy))\n",
    "    r = np.array(r)\n",
    "\n",
    "    # rtot is a cumulative sum of r, it's used to save time\n",
    "    rtot = []\n",
    "    for i in range(len(r)):\n",
    "        rtot.append(r[0:i].sum())\n",
    "    rtot.append(r.sum())\n",
    "\n",
    "    dr = rtot[-1]/(NPOINTS*RESFACT-1)\n",
    "    xmod=[x[0]]\n",
    "    ymod=[y[0]]\n",
    "    rPos = 0 # current point on walk along data\n",
    "    rcount = 1 \n",
    "    while rPos < r.sum():\n",
    "        x1,x2 = x[rcount-1],x[rcount]\n",
    "        y1,y2 = y[rcount-1],y[rcount]\n",
    "        dpos = rPos-rtot[rcount] \n",
    "        theta = np.arctan2((x2-x1),(y2-y1))\n",
    "        rx = np.sin(theta)*dpos+x1\n",
    "        ry = np.cos(theta)*dpos+y1\n",
    "        xmod.append(rx)\n",
    "        ymod.append(ry)\n",
    "        rPos+=dr\n",
    "        while rPos > rtot[rcount+1]:\n",
    "            rPos = rtot[rcount+1]\n",
    "            rcount+=1\n",
    "            if rcount>rtot[-1]:\n",
    "                break\n",
    "\n",
    "    return xmod,ymod"
   ]
  },
  {
   "cell_type": "code",
   "execution_count": 10,
   "metadata": {},
   "outputs": [
    {
     "name": "stdout",
     "output_type": "stream",
     "text": [
      "close end: 11.842105264157894\n",
      "far end: 40.26315789573684\n",
      "middle: 26.05263157994737\n"
     ]
    }
   ],
   "source": [
    "## Where should we put our ten GABA synapses?\n",
    "print('close end:', h.distance(h.cell.soma[0](1), h.cell.axon[0](0.15)))\n",
    "print('far end:', h.distance(h.cell.soma[0](1), h.cell.axon[0](0.45)))\n",
    "print('middle:', h.distance(h.cell.soma[0](1), h.cell.axon[0](0.3)))"
   ]
  },
  {
   "cell_type": "code",
   "execution_count": 9,
   "metadata": {},
   "outputs": [],
   "source": [
    "# what about adding 10 total synapses\n",
    "syns = [] # syns is a Python list\n",
    "NSYN = 10\n",
    "for ii in range(0,NSYN):\n",
    "    GABAs = h.Exp2Syn(h.cell.axon[0](ii*0.03 +0.18)) #formula to get position right\n",
    "    GABAs.tau1 = 0.33 #ms\n",
    "    GABAs.tau2 = 5.6 #ms\n",
    "    GABAs.e = -90 # mV\n",
    "    syns.append(GABAs)\n",
    "    \n",
    "nsg = h.NetStim()\n",
    "nsg.number = 1\n",
    "nsg.start = 350 # ms (give the cell time to equilibrate)\n",
    "\n",
    "ncgs = [] # list for NetCons\n",
    "for ii in range(0, NSYN):\n",
    "    ncg_tmp = h.NetCon(nsg, syns[ii])\n",
    "    ncg_tmp.weight[0] = 0\n",
    "    ncg_tmp.delay = 0\n",
    "    ncgs.append(ncg_tmp)"
   ]
  },
  {
   "cell_type": "code",
   "execution_count": 173,
   "metadata": {},
   "outputs": [],
   "source": [
    "h.sh_na16 = 7"
   ]
  },
  {
   "cell_type": "code",
   "execution_count": 181,
   "metadata": {
    "scrolled": true
   },
   "outputs": [
    {
     "name": "stdout",
     "output_type": "stream",
     "text": [
      "-53.55210219749633\n",
      "-52.72960922754449\n",
      "-52.89366611291292\n",
      "-52.95333830119578\n",
      "-53.07196242635427\n",
      "-53.246856436844475\n",
      "-53.414066418463456\n",
      "-53.438874620073015\n",
      "-53.604847113535314\n",
      "-53.68265991709927\n",
      "-53.76262108280332\n",
      "-53.78280318962028\n",
      "-53.851800284073846\n",
      "-53.928519824276314\n",
      "-53.98140289620812\n",
      "-53.98605809013987\n",
      "-54.08145394609096\n",
      "-54.09531348484521\n",
      "-54.00846713878412\n",
      "-54.14533810225405\n",
      "-54.16447500329179\n"
     ]
    },
    {
     "data": {
      "image/png": "[encoded data removed]",
      "text/plain": [
       "<Figure size 720x576 with 4 Axes>"
      ]
     },
     "metadata": {
      "needs_background": "light"
     },
     "output_type": "display_data"
    }
   ],
   "source": [
    "### Anna threshold models continued\n",
    "# ten GABA synapses\n",
    "\n",
    "#set all to zero at first\n",
    "for ncg in ncgs:\n",
    "    ncg.weight[0] = 0\n",
    "    \n",
    "#set color map\n",
    "cmap = clr.LinearSegmentedColormap.from_list('scn2a', \n",
    "                                         [(0,    'k'),\n",
    "                                          (0.5, 'skyblue'),\n",
    "                                          (1,    'red')], N=256)\n",
    "\n",
    "### PLOTS ###\n",
    "init_stim_for_phase_plane()\n",
    "#percents = [-90, -80, -70, -60, -50, -40, -30, -20, -10, 0]\n",
    "percents = np.arange(-60,-40,1)\n",
    "fig, ax1, ax2, ax3, ax4 = AP1_phase_plane_comparison_axes(percents, cmap)\n",
    "fig.suptitle('Altering EGABA - 10 synapses')\n",
    "time = []\n",
    "thresh = []\n",
    "\n",
    "# for i, p in enumerate(percents):\n",
    "#     init_settings(na12=p) ### set conductance here\n",
    "#     dvdt_temp, thresh_temp = AP1_phase_plane(ax1, ax2, label = '{}%'.format(int(p*100)))\n",
    "#     dvdt.append(dvdt_temp)\n",
    "#     thresh.append(thresh_temp)\n",
    "\n",
    "### run once with no GABA\n",
    "init_settings()\n",
    "time_nostim, thresh_nostim = AP1_phase_plane(ax1, ax2, label = 'no stim')\n",
    "ax3.axhline(y = time_nostim, color = 'k', linestyle = 'dashdot')\n",
    "ax4.axhline(y = thresh_nostim, color = 'k', linestyle = 'dashdot')\n",
    "print(thresh_nostim)\n",
    "\n",
    "#reinstate GABAsyn\n",
    "\n",
    "for ncg in ncgs:\n",
    "    ncg.weight[0] = 0.001\n",
    "\n",
    "for i, p in enumerate(percents):\n",
    "    init_settings() \n",
    "    for syn in syns:\n",
    "        syn.e = p\n",
    "    time_temp, thresh_temp = AP1_phase_plane(ax1, ax2, label = '{}%'.format(int(p*100)))\n",
    "    time.append(time_temp)\n",
    "    thresh.append(thresh_temp)\n",
    "\n",
    "# for i, p in enumerate(reversals):\n",
    "#     init_settings(GABAsyn.e = p) ### set conductance here\n",
    "#     dvdt_temp, thresh_temp = AP1_phase_plane(ax1, ax2, label = '{}%'.format(int(p*100)))\n",
    "#     dvdt.append(dvdt_temp)\n",
    "#     thresh.append(thresh_temp)\n",
    "\n",
    "    \n",
    "#reversals = [-100,-90, -80, -70, -60, -50, -40, -30, -20, -10, 0]\n",
    "ax3.set_prop_cycle('color', cmap(np.linspace(0,1,len(percents))))\n",
    "for i in range(len(percents)):\n",
    "    ax3.scatter(percents[i],time[i])\n",
    "ax3.set_xlim(-95,5)\n",
    "\n",
    "\n",
    "ax4.set_prop_cycle('color', cmap(np.linspace(0,1,len(percents))))\n",
    "for i in range(len(percents)):\n",
    "    ax4.scatter(percents[i],thresh[i])\n",
    "    print(thresh[i])\n",
    "ax4.set_xlim(-60,-40) \n",
    "ax4.set_ylim(-55,-45)\n",
    "    \n",
    "# plt.savefig('Phase-plane - Reducing NaV12 – All Compartments.pdf')\n",
    "plt.show()"
   ]
  },
  {
   "cell_type": "code",
   "execution_count": null,
   "metadata": {
    "scrolled": true
   },
   "outputs": [
    {
     "name": "stdout",
     "output_type": "stream",
     "text": [
      "-53.55210219749633\n"
     ]
    }
   ],
   "source": [
    "## again with a wider EGABA step\n",
    "### Anna threshold models continued\n",
    "# ten GABA synapses\n",
    "\n",
    "#set all to zero at first\n",
    "for ncg in ncgs:\n",
    "    ncg.weight[0] = 0\n",
    "    \n",
    "#set color map\n",
    "cmap = clr.LinearSegmentedColormap.from_list('scn2a', \n",
    "                                         [(0,    'k'),\n",
    "                                          (0.5, 'skyblue'),\n",
    "                                          (1,    'red')], N=256)\n",
    "\n",
    "### PLOTS ###\n",
    "init_stim_for_phase_plane()\n",
    "#percents = [-90, -80, -70, -60, -50, -40, -30, -20, -10, 0]\n",
    "percents = np.arange(-90,0,10)\n",
    "fig, ax1, ax2, ax3, ax4 = AP1_phase_plane_comparison_axes(percents, cmap)\n",
    "fig.suptitle('Altering EGABA - 10 synapses')\n",
    "time = []\n",
    "thresh = []\n",
    "\n",
    "# for i, p in enumerate(percents):\n",
    "#     init_settings(na12=p) ### set conductance here\n",
    "#     dvdt_temp, thresh_temp = AP1_phase_plane(ax1, ax2, label = '{}%'.format(int(p*100)))\n",
    "#     dvdt.append(dvdt_temp)\n",
    "#     thresh.append(thresh_temp)\n",
    "\n",
    "### run once with no GABA\n",
    "init_settings()\n",
    "time_nostim, thresh_nostim = AP1_phase_plane(ax1, ax2, label = 'no stim')\n",
    "ax3.axhline(y = time_nostim, color = 'k', linestyle = 'dashdot')\n",
    "ax4.axhline(y = thresh_nostim, color = 'k', linestyle = 'dashdot')\n",
    "print(thresh_nostim)\n",
    "\n",
    "#reinstate GABAsyn\n",
    "nsg.start = 350\n",
    "\n",
    "for ncg in ncgs:\n",
    "    ncg.weight[0] = 0.001\n",
    "\n",
    "for i, p in enumerate(percents):\n",
    "    init_settings() \n",
    "    for syn in syns:\n",
    "        syn.e = p\n",
    "    time_temp, thresh_temp = AP1_phase_plane(ax1, ax2, label = '{}%'.format(int(p*100)))\n",
    "    time.append(time_temp)\n",
    "    thresh.append(thresh_temp)\n",
    "\n",
    "# for i, p in enumerate(reversals):\n",
    "#     init_settings(GABAsyn.e = p) ### set conductance here\n",
    "#     dvdt_temp, thresh_temp = AP1_phase_plane(ax1, ax2, label = '{}%'.format(int(p*100)))\n",
    "#     dvdt.append(dvdt_temp)\n",
    "#     thresh.append(thresh_temp)\n",
    "\n",
    "    \n",
    "#reversals = [-100,-90, -80, -70, -60, -50, -40, -30, -20, -10, 0]\n",
    "ax3.set_prop_cycle('color', cmap(np.linspace(0,1,len(percents))))\n",
    "for i in range(len(percents)):\n",
    "    ax3.scatter(percents[i],time[i])\n",
    "ax3.set_xlim(-95,5)\n",
    "\n",
    "\n",
    "ax4.set_prop_cycle('color', cmap(np.linspace(0,1,len(percents))))\n",
    "for i in range(len(percents)):\n",
    "    ax4.scatter(percents[i],thresh[i])\n",
    "    print(thresh[i])\n",
    "ax4.set_xlim(-70,-40) \n",
    "ax4.set_ylim(-95, 5)\n",
    "    \n",
    "# plt.savefig('Phase-plane - Reducing NaV12 – All Compartments.pdf')\n",
    "plt.show()"
   ]
  },
  {
   "cell_type": "code",
   "execution_count": 184,
   "metadata": {},
   "outputs": [],
   "source": [
    "ax4.set_ylim(-95,5)\n",
    "plt.show()"
   ]
  },
  {
   "cell_type": "code",
   "execution_count": 160,
   "metadata": {
    "scrolled": true
   },
   "outputs": [
    {
     "data": {
      "image/png": "[encoded data removed]",
      "text/plain": [
       "<Figure size 576x432 with 2 Axes>"
      ]
     },
     "metadata": {
      "needs_background": "light"
     },
     "output_type": "display_data"
    }
   ],
   "source": [
    "def GABA_current_plots(label):\n",
    "    ax1.set_title('Vm')\n",
    "    ax1.set_ylabel('Vm (mV)')\n",
    "    ax2.set_title('I_GABA')\n",
    "    ax2.set_xlabel('Time (sec)')\n",
    "    ax2.set_ylabel('I_GABA (nA)')\n",
    "#     ax2.set_ylim(0, 0.8)\n",
    "    \n",
    "#     ax3.set_title('I_Na')\n",
    "#     ax3.set_xlabel('Time (sec)')\n",
    "#     ax3.set_ylabel('I_Na (nA)')\n",
    "#     ax3.set_ylim(-2.5, 0)\n",
    "\n",
    "    Vm, I, t = run_model()\n",
    "    \n",
    "    nsg.start = 350\n",
    "    t = t[int(nsg.start/h.dt):int(800/h.dt)]\n",
    "    t = t-t[0]\n",
    "    Vm = Vm[int(nsg.start/h.dt):int(800/h.dt)]\n",
    "    I_GABA = I['GABA'][int(nsg.start/h.dt):int(800/h.dt)]\n",
    "    #I_K = I['K'][spike_start:spike_end]\n",
    "    \n",
    "    ax1.plot(t + i*.015, Vm, linewidth = 1, label = label)    \n",
    "    ax2.plot(t + i*.015, I_GABA, linewidth = 1, label = label)\n",
    "    #ax3.plot(t + i*.015, I_Na, linewidth = 1, label = label)\n",
    "\n",
    "sweep_len = 100\n",
    "stim_dur = 95\n",
    "stim_start = 330\n",
    "amp = 0.45\n",
    "dt = 0.01\n",
    "\n",
    "init_stim(sweep_len=3500, \n",
    "          stim_start=stim_start,\n",
    "          stim_dur=stim_dur,\n",
    "          amp=amp,\n",
    "          dt=dt)\n",
    "\n",
    "fig1, [ax1, ax2] = plt.subplots(nrows=2, ncols=1, figsize=(8,6), sharex=False, sharey=False)\n",
    "fig_title = 'GABA current amplitudes'\n",
    "fig1.suptitle(fig_title) \n",
    "\n",
    "#percents = [-90]\n",
    "percents = np.arange(-90,-30,10)\n",
    "cmap = clr.LinearSegmentedColormap.from_list('scn2a', \n",
    "                                             [(0,    'k'),\n",
    "                                              (0.5, 'skyblue'),\n",
    "                                              (1,    'red')], N=256)\n",
    "\n",
    "ax1.set_prop_cycle('color',cmap(np.linspace(0,1,len(percents))))\n",
    "ax2.set_prop_cycle('color',cmap(np.linspace(0,1,len(percents))))\n",
    "#ax3.set_prop_cycle('color',cmap(np.linspace(0,1,len(percents))))\n",
    "\n",
    "ax1.plot([0, 0], [0, 40], 'k')\n",
    "ax1.plot([0, 0.005], [0, 0], 'k')\n",
    "ax2.plot([0, 0], [0, .2], 'k')\n",
    "#ax3.plot([0, 0], [0, -0.5], 'k')\n",
    "#ax3.plot([0, 0], [0, -0.5], 'k')\n",
    "\n",
    "ax1.axis('off')\n",
    "ax2.axis('off')\n",
    "#ax3.axis('off')\n",
    "\n",
    "nsg.start = 350\n",
    "\n",
    "for ncg in ncgs:\n",
    "    ncg.weight[0] = 0.001\n",
    "    \n",
    "for i, p in enumerate(percents):\n",
    "    init_settings() \n",
    "    for syn in syns:\n",
    "        syn.e = p\n",
    "    GABA_current_plots(label = '{}'.format(int(p)))\n",
    "    \n",
    "# ax1.legend(frameon=False, title='NaV1.2 (%)')\n",
    "# plt.savefig(\"{}.pdf\".format('model_currents_and_spikes'), transparent=True)\n",
    "plt.show()"
   ]
  },
  {
   "cell_type": "code",
   "execution_count": 170,
   "metadata": {},
   "outputs": [],
   "source": [
    "def ahp_plot_axes():\n",
    "\n",
    "\n",
    "    fig, ax = plt.subplots(nrows=1, ncols=1, figsize=(8,6), sharex=False, sharey=False)\n",
    "\n",
    "    ax.set_ylabel('Vm (mV)')\n",
    "    ax.set_ylabel('Time (sec)')\n",
    "    ax.plot([0, 0], [-40,-20])\n",
    "    ax.plot([0, 0.005], [-40,-40])\n",
    "\n",
    "#     ax.axis('off')\n",
    "\n",
    "    ax.set_ylim(-95,50)\n",
    "    ax.set_xlim(0.3, 0.5)\n",
    "    return fig, ax\n",
    "\n",
    "sweep_len = 5000\n",
    "stim_dur = 50\n",
    "stim_start = 330 # stim should precede GABA onset by 20 ms (with this morphology/current combo)\n",
    "amp = 0.45\n",
    "dt = 0.1\n",
    "init_stim(sweep_len=sweep_len, \n",
    "          stim_start=stim_start,\n",
    "          stim_dur=stim_dur,\n",
    "          amp=amp,\n",
    "          dt=dt)"
   ]
  },
  {
   "cell_type": "code",
   "execution_count": 169,
   "metadata": {},
   "outputs": [
    {
     "data": {
      "image/png": "[encoded data removed]",
      "text/plain": [
       "<Figure size 576x432 with 1 Axes>"
      ]
     },
     "metadata": {
      "needs_background": "light"
     },
     "output_type": "display_data"
    }
   ],
   "source": [
    "## GABA currents alone\n",
    "## manually set ahp_plot_axes amp to 0\n",
    "percents = np.arange(-90,-30,10)\n",
    "cmap = clr.LinearSegmentedColormap.from_list('scn2a', \n",
    "                                             [(0,    'k'),\n",
    "                                              (0.5, 'skyblue'),\n",
    "                                              (1,    'red')], N=256)\n",
    "\n",
    "fig, ax = ahp_plot_axes()\n",
    "ax.set_prop_cycle('color',cmap(np.linspace(0,1,len(percents))))\n",
    "\n",
    "nsg.start = 350\n",
    "for ncg in ncgs:\n",
    "    ncg.weight[0] = 0.001\n",
    "for i, p in enumerate(percents):\n",
    "    init_settings() ### set conductance here\n",
    "    for syn in syns:\n",
    "        syn.e = p\n",
    "    Vm, I, t = run_model()\n",
    "    ax.plot(t[int(30/h.dt):int(800/h.dt)], Vm[int(30/h.dt):int(800/h.dt)], linewidth=1, label = '{}'.format(int(p)))\n",
    "\n",
    "ax.legend(frameon=False)\n",
    "title='GABA alone'\n",
    "plt.title(title)\n",
    "ax.set_ylim(-75,-65)\n",
    "# plt.savefig(title + '.pdf')\n",
    "plt.show()"
   ]
  },
  {
   "cell_type": "code",
   "execution_count": 165,
   "metadata": {},
   "outputs": [
    {
     "data": {
      "image/png": "[encoded data removed]",
      "text/plain": [
       "<Figure size 576x432 with 1 Axes>"
      ]
     },
     "metadata": {
      "needs_background": "light"
     },
     "output_type": "display_data"
    }
   ],
   "source": [
    "## manually change ahp_plot_axes amp back to 0.25\n",
    "## spikes alone, no GABA\n",
    "#percents = np.arange(-90,-30,10)\n",
    "percents = [-90]\n",
    "cmap = clr.LinearSegmentedColormap.from_list('scn2a', \n",
    "                                             [(0,    'k'),\n",
    "                                              (0.5, 'skyblue'),\n",
    "                                              (1,    'red')], N=256)\n",
    "\n",
    "fig, ax = ahp_plot_axes()\n",
    "ax.set_prop_cycle('color',cmap(np.linspace(0,1,len(percents))))\n",
    "\n",
    "nsg.start = 350\n",
    "\n",
    "## turn off GABA synapses\n",
    "for ncg in ncgs:\n",
    "    ncg.weight[0] = 0.0\n",
    "    \n",
    "for i, p in enumerate(percents):\n",
    "    init_settings() ### set conductance here\n",
    "    for syn in syns:\n",
    "        syn.e = p\n",
    "    Vm, I, t = run_model()\n",
    "    ax.plot(t[int(30/h.dt):int(800/h.dt)], Vm[int(30/h.dt):int(800/h.dt)], linewidth=1, label = '{}'.format(int(p)))\n",
    "\n",
    "ax.legend(frameon=False)\n",
    "title='AP alone'\n",
    "plt.title(title)\n",
    "# plt.savefig(title + '.pdf')\n",
    "plt.show()"
   ]
  },
  {
   "cell_type": "code",
   "execution_count": 172,
   "metadata": {},
   "outputs": [
    {
     "data": {
      "image/png": "[encoded data removed]",
      "text/plain": [
       "<Figure size 576x432 with 1 Axes>"
      ]
     },
     "metadata": {
      "needs_background": "light"
     },
     "output_type": "display_data"
    }
   ],
   "source": [
    "## once calibrated, turn GABA on again\n",
    "percents = np.arange(-90,-30,10)\n",
    "#percents = [-90]  ## use for calibration\n",
    "cmap = clr.LinearSegmentedColormap.from_list('scn2a', \n",
    "                                             [(0,    'k'),\n",
    "                                              (0.5, 'skyblue'),\n",
    "                                              (1,    'red')], N=256)\n",
    "\n",
    "fig, ax = ahp_plot_axes()\n",
    "ax.set_prop_cycle('color',cmap(np.linspace(0,1,len(percents))))\n",
    "\n",
    "#once without GABA\n",
    "for ncg in ncgs:\n",
    "    ncg.weight[0] = 0\n",
    "init_settings()\n",
    "Vm, I, t = run_model()\n",
    "ax.plot(t[int(30/h.dt):int(800/h.dt)], Vm[int(30/h.dt):int(800/h.dt)], linewidth=1, label = 'no stim', color = 'k')\n",
    "\n",
    "nsg.start = 350\n",
    "for ncg in ncgs:\n",
    "    ncg.weight[0] = 0.001\n",
    "for i, p in enumerate(percents):\n",
    "    init_settings() ### set conductance here\n",
    "    for syn in syns:\n",
    "        syn.e = p\n",
    "    Vm, I, t = run_model()\n",
    "    ax.plot(t[int(30/h.dt):int(800/h.dt)], Vm[int(30/h.dt):int(800/h.dt)], linewidth=1, label = '{}'.format(int(p)))\n",
    "\n",
    "ax.legend(frameon=False)\n",
    "title='GABA + APs'\n",
    "plt.title(title)\n",
    "# plt.savefig(title + '.pdf')\n",
    "plt.show()"
   ]
  },
  {
   "cell_type": "code",
   "execution_count": null,
   "metadata": {},
   "outputs": [],
   "source": []
  }
 ],
 "metadata": {
  "kernelspec": {
   "display_name": "Python 3",
   "language": "python",
   "name": "python3"
  },
  "language_info": {
   "codemirror_mode": {
    "name": "ipython",
    "version": 3
   },
   "file_extension": ".py",
   "mimetype": "text/x-python",
   "name": "python",
   "nbconvert_exporter": "python",
   "pygments_lexer": "ipython3",
   "version": "3.8.3"
  },
  "toc": {
   "base_numbering": 1,
   "nav_menu": {},
   "number_sections": true,
   "sideBar": true,
   "skip_h1_title": false,
   "title_cell": "Table of Contents",
   "title_sidebar": "Contents",
   "toc_cell": false,
   "toc_position": {
    "height": "calc(100% - 180px)",
    "left": "10px",
    "top": "150px",
    "width": "307.797px"
   },
   "toc_section_display": true,
   "toc_window_display": true
  }
 },
 "nbformat": 4,
 "nbformat_minor": 4
}
